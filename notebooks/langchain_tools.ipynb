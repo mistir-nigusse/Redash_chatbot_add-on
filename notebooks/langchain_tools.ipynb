{
 "cells": [
  {
   "cell_type": "code",
   "execution_count": 6,
   "metadata": {},
   "outputs": [],
   "source": [
    "from langchain.prompts import ChatPromptTemplate\n",
    "from langchain.chat_models import ChatOpenAI\n",
    "from langchain.utils.openai_functions import convert_pydantic_to_openai_function\n",
    "from langchain.agents import tool\n",
    "from typing import Optional, List, Tuple\n",
    "from pydantic import BaseModel, Field\n",
    "from langchain.tools.render import format_tool_to_openai_function\n",
    "from dotenv import load_dotenv\n",
    "import os\n",
    "import json\n",
    "import langchain"
   ]
  },
  {
   "cell_type": "code",
   "execution_count": 7,
   "metadata": {},
   "outputs": [
    {
     "data": {
      "text/plain": [
       "'0.1.19'"
      ]
     },
     "execution_count": 7,
     "metadata": {},
     "output_type": "execute_result"
    }
   ],
   "source": [
    "langchain.__version__"
   ]
  },
  {
   "cell_type": "code",
   "execution_count": 8,
   "metadata": {},
   "outputs": [],
   "source": [
    "load_dotenv()\n",
    "api_key=os.environ.get(\"OPENAI_API_KEY\")"
   ]
  },
  {
   "cell_type": "code",
   "execution_count": 9,
   "metadata": {},
   "outputs": [],
   "source": [
    "class SQLQuery(BaseModel):\n",
    "    query: str = Field(description=\"SQL query to execute\")\n",
    "\n",
    "@tool\n",
    "def execute_sql(query: str) -> Tuple[List[Tuple], List[Tuple]]:\n",
    "    \"\"\"Returns the result of SQL query execution and cursor description\"\"\"\n",
    "    return get_postgres_data(query)\n",
    "\n",
    "\n",
    "class SQLTable(BaseModel):\n",
    "    table: str = Field(description=\"Table name\")\n",
    "\n",
    "@tool\n",
    "def get_table_columns(table:str) -> str:\n",
    "    \"\"\"Returns a list of table column names and types in JSON\"\"\"\n",
    "\n",
    "    query = f'''\n",
    "   SELECT column_name, data_type\n",
    "    FROM information_schema.columns\n",
    "    WHERE table_name = '{table}';\n",
    "    '''\n",
    "\n",
    "    result_df = get_postgres_df(query)\n",
    "\n",
    "    # Convert the result DataFrame to a list of dictionaries\n",
    "    result_list = result_df.to_dict('records')\n",
    "\n",
    "    # Convert the list to a JSON-formatted string\n",
    "    return str(result_list)\n",
    "\n",
    "\n",
    "class SQLTableColumn(BaseModel):\n",
    "    database: str = Field(description=\"Database name\")\n",
    "    table: str = Field(description=\"Table name\")\n",
    "    column: str = Field(description=\"Column name\")\n",
    "    n: Optional[int] = Field(description=\"Number of rows, default limit 10\")\n",
    "\n",
    "@tool\n",
    "def get_table_column_distr( table: str, column: str, n:int = 10) -> str:\n",
    "    \"\"\"Returns top n values for the column in JSON\"\"\"\n",
    "    print(column)\n",
    "    q = f'''\n",
    "\n",
    "     SELECT \"{column}\", COUNT(1) AS count\n",
    "    FROM {table}\n",
    "    GROUP BY 1\n",
    "    ORDER BY 2 DESC\n",
    "    LIMIT {n};\n",
    "\n",
    "    '''\n",
    "\n",
    "    return str(list(get_postgres_df(q)[column].values))\n",
    "\n",
    "tools = [execute_sql,get_table_columns,get_table_column_distr]"
   ]
  },
  {
   "cell_type": "code",
   "execution_count": 11,
   "metadata": {},
   "outputs": [],
   "source": [
    "from langchain_openai import ChatOpenAI\n",
    "\n",
    "llm = ChatOpenAI(model=\"gpt-3.5-turbo-0125\", temperature=0)"
   ]
  },
  {
   "cell_type": "code",
   "execution_count": 12,
   "metadata": {},
   "outputs": [],
   "source": [
    "llm_with_tools = llm.bind_tools(tools)"
   ]
  },
  {
   "cell_type": "code",
   "execution_count": 13,
   "metadata": {},
   "outputs": [],
   "source": [
    "always_call_tool_llm = llm.bind_tools([execute_sql,get_table_columns,get_table_column_distr], tool_choice=\"any\")"
   ]
  },
  {
   "cell_type": "code",
   "execution_count": null,
   "metadata": {},
   "outputs": [],
   "source": []
  }
 ],
 "metadata": {
  "kernelspec": {
   "display_name": "venv",
   "language": "python",
   "name": "python3"
  },
  "language_info": {
   "codemirror_mode": {
    "name": "ipython",
    "version": 3
   },
   "file_extension": ".py",
   "mimetype": "text/x-python",
   "name": "python",
   "nbconvert_exporter": "python",
   "pygments_lexer": "ipython3",
   "version": "3.12.3"
  }
 },
 "nbformat": 4,
 "nbformat_minor": 2
}
