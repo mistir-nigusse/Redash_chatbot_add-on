{
 "cells": [
  {
   "cell_type": "code",
   "execution_count": 3,
   "metadata": {},
   "outputs": [],
   "source": [
    "import os\n",
    "import zipfile\n",
    "import pandas as pd\n",
    "from sqlalchemy import create_engine\n",
    "from sqlalchemy.types import String, Date, Integer\n",
    "import csv\n",
    "from io import StringIO\n"
   ]
  },
  {
   "cell_type": "code",
   "execution_count": 8,
   "metadata": {},
   "outputs": [],
   "source": [
    "#Reading the csv files\n",
    "cities = pd.read_csv('../data/Cities/Chart data.csv', index_col=False)\n",
    "cities.name = 'cities'\n",
    "Content_type = pd.read_csv('../data/Content type/Chart data.csv', index_col=False)\n",
    "Content_type.name = 'Content_type'\n",
    "Device_type = pd.read_csv('../data/Device type/Chart data.csv', index_col=False)\n",
    "Device_type.name = 'Device_type'\n",
    "Geography = pd.read_csv('../data/Geography/Chart data.csv', index_col=False)\n",
    "Geography.name = 'Geography'\n",
    "New_and_returning_viewers = pd.read_csv('../data/New and returning viewers/Chart data.csv', index_col=False)\n",
    "New_and_returning_viewers.name = 'New_and_returning_viewers'\n",
    "Operating_system = pd.read_csv('../data/Operating system/Chart data.csv', index_col=False)\n",
    "Operating_system.name = 'Operating_system'\n",
    "Sharing_service = pd.read_csv('../data/Sharing service/Chart data.csv', index_col=False)\n",
    "Sharing_service.name = 'Sharing_service'\n",
    "Subscription_source = pd.read_csv('../data/Subscription source/Chart data.csv', index_col=False)\n",
    "Subscription_source.name = 'Subscription_source'\n",
    "Subscription_status = pd.read_csv('../data/Subscription status/Chart data.csv', index_col=False)\n",
    "Subscription_status.name = 'Subscription_status'\n",
    "Subtitles_and_CC = pd.read_csv('../data/Subtitles and CC/Chart data.csv', index_col=False)\n",
    "Subtitles_and_CC.name = 'Subtitles_and_CC'\n",
    "Traffic_source = pd.read_csv('../data/Traffic source/Chart data.csv', index_col=False)\n",
    "Traffic_source.name = 'Traffic_source'"
   ]
  },
  {
   "cell_type": "code",
   "execution_count": 6,
   "metadata": {},
   "outputs": [
    {
     "data": {
      "text/html": [
       "<div>\n",
       "<style scoped>\n",
       "    .dataframe tbody tr th:only-of-type {\n",
       "        vertical-align: middle;\n",
       "    }\n",
       "\n",
       "    .dataframe tbody tr th {\n",
       "        vertical-align: top;\n",
       "    }\n",
       "\n",
       "    .dataframe thead th {\n",
       "        text-align: right;\n",
       "    }\n",
       "</style>\n",
       "<table border=\"1\" class=\"dataframe\">\n",
       "  <thead>\n",
       "    <tr style=\"text-align: right;\">\n",
       "      <th></th>\n",
       "      <th>Date</th>\n",
       "      <th>Cities</th>\n",
       "      <th>City name</th>\n",
       "      <th>Views</th>\n",
       "    </tr>\n",
       "  </thead>\n",
       "  <tbody>\n",
       "    <tr>\n",
       "      <th>0</th>\n",
       "      <td>2020-06-28</td>\n",
       "      <td>0x164b85cef5ab402d:0x8467b6b037a24d49</td>\n",
       "      <td>Addis Ababa</td>\n",
       "      <td>0</td>\n",
       "    </tr>\n",
       "    <tr>\n",
       "      <th>1</th>\n",
       "      <td>2020-06-29</td>\n",
       "      <td>0x164b85cef5ab402d:0x8467b6b037a24d49</td>\n",
       "      <td>Addis Ababa</td>\n",
       "      <td>0</td>\n",
       "    </tr>\n",
       "    <tr>\n",
       "      <th>2</th>\n",
       "      <td>2020-06-30</td>\n",
       "      <td>0x164b85cef5ab402d:0x8467b6b037a24d49</td>\n",
       "      <td>Addis Ababa</td>\n",
       "      <td>0</td>\n",
       "    </tr>\n",
       "    <tr>\n",
       "      <th>3</th>\n",
       "      <td>2020-07-01</td>\n",
       "      <td>0x164b85cef5ab402d:0x8467b6b037a24d49</td>\n",
       "      <td>Addis Ababa</td>\n",
       "      <td>0</td>\n",
       "    </tr>\n",
       "    <tr>\n",
       "      <th>4</th>\n",
       "      <td>2020-07-02</td>\n",
       "      <td>0x164b85cef5ab402d:0x8467b6b037a24d49</td>\n",
       "      <td>Addis Ababa</td>\n",
       "      <td>0</td>\n",
       "    </tr>\n",
       "  </tbody>\n",
       "</table>\n",
       "</div>"
      ],
      "text/plain": [
       "         Date                                 Cities    City name  Views\n",
       "0  2020-06-28  0x164b85cef5ab402d:0x8467b6b037a24d49  Addis Ababa      0\n",
       "1  2020-06-29  0x164b85cef5ab402d:0x8467b6b037a24d49  Addis Ababa      0\n",
       "2  2020-06-30  0x164b85cef5ab402d:0x8467b6b037a24d49  Addis Ababa      0\n",
       "3  2020-07-01  0x164b85cef5ab402d:0x8467b6b037a24d49  Addis Ababa      0\n",
       "4  2020-07-02  0x164b85cef5ab402d:0x8467b6b037a24d49  Addis Ababa      0"
      ]
     },
     "execution_count": 6,
     "metadata": {},
     "output_type": "execute_result"
    }
   ],
   "source": [
    "cities.head()"
   ]
  },
  {
   "cell_type": "code",
   "execution_count": 10,
   "metadata": {},
   "outputs": [
    {
     "name": "stdout",
     "output_type": "stream",
     "text": [
      "<class 'pandas.core.frame.DataFrame'>\n",
      "RangeIndex: 11511 entries, 0 to 11510\n",
      "Data columns (total 3 columns):\n",
      " #   Column          Non-Null Count  Dtype \n",
      "---  ------          --------------  ----- \n",
      " 0   Date            11511 non-null  object\n",
      " 1   Traffic source  11511 non-null  object\n",
      " 2   Views           11511 non-null  int64 \n",
      "dtypes: int64(1), object(2)\n",
      "memory usage: 269.9+ KB\n"
     ]
    }
   ],
   "source": [
    "Traffic_source.info()"
   ]
  },
  {
   "cell_type": "code",
   "execution_count": null,
   "metadata": {},
   "outputs": [],
   "source": []
  }
 ],
 "metadata": {
  "kernelspec": {
   "display_name": "venv",
   "language": "python",
   "name": "python3"
  },
  "language_info": {
   "codemirror_mode": {
    "name": "ipython",
    "version": 3
   },
   "file_extension": ".py",
   "mimetype": "text/x-python",
   "name": "python",
   "nbconvert_exporter": "python",
   "pygments_lexer": "ipython3",
   "version": "3.12.3"
  }
 },
 "nbformat": 4,
 "nbformat_minor": 2
}
