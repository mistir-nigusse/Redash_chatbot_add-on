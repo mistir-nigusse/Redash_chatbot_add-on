{
 "cells": [
  {
   "cell_type": "code",
   "execution_count": 5,
   "metadata": {},
   "outputs": [],
   "source": [
    "from langchain.prompts import ChatPromptTemplate\n",
    "from langchain.chat_models import ChatOpenAI\n",
    "from langchain.utils.openai_functions import convert_pydantic_to_openai_function\n",
    "from langchain.agents import tool\n",
    "from typing import Optional\n",
    "from pydantic import BaseModel, Field\n",
    "from langchain.tools.render import format_tool_to_openai_function\n",
    "from dotenv import load_dotenv\n",
    "import os\n",
    "import json\n",
    "import langchain"
   ]
  },
  {
   "cell_type": "code",
   "execution_count": 6,
   "metadata": {},
   "outputs": [
    {
     "data": {
      "text/plain": [
       "'0.1.19'"
      ]
     },
     "execution_count": 6,
     "metadata": {},
     "output_type": "execute_result"
    }
   ],
   "source": [
    "langchain.__version__"
   ]
  },
  {
   "cell_type": "code",
   "execution_count": 8,
   "metadata": {},
   "outputs": [],
   "source": [
    "load_dotenv()\n",
    "api_key=os.environ.get(\"OPENAI_API_KEY\")"
   ]
  },
  {
   "cell_type": "code",
   "execution_count": 42,
   "metadata": {},
   "outputs": [
    {
     "ename": "ImportError",
     "evalue": "cannot import name 'OpenAI' from 'openai' (/home/grace-nyutu/Documents/Redash_chatbot_add-on/venv/lib/python3.12/site-packages/openai/__init__.py)",
     "output_type": "error",
     "traceback": [
      "\u001b[0;31m---------------------------------------------------------------------------\u001b[0m",
      "\u001b[0;31mImportError\u001b[0m                               Traceback (most recent call last)",
      "Cell \u001b[0;32mIn[42], line 1\u001b[0m\n\u001b[0;32m----> 1\u001b[0m \u001b[38;5;28;01mfrom\u001b[39;00m \u001b[38;5;21;01mopenai\u001b[39;00m \u001b[38;5;28;01mimport\u001b[39;00m OpenAI\n",
      "\u001b[0;31mImportError\u001b[0m: cannot import name 'OpenAI' from 'openai' (/home/grace-nyutu/Documents/Redash_chatbot_add-on/venv/lib/python3.12/site-packages/openai/__init__.py)"
     ]
    }
   ],
   "source": [
    "from openai import OpenAI"
   ]
  },
  {
   "cell_type": "code",
   "execution_count": 40,
   "metadata": {},
   "outputs": [
    {
     "ename": "InvalidRequestError",
     "evalue": "Unrecognized request argument supplied: messages",
     "output_type": "error",
     "traceback": [
      "\u001b[0;31m---------------------------------------------------------------------------\u001b[0m",
      "\u001b[0;31mInvalidRequestError\u001b[0m                       Traceback (most recent call last)",
      "Cell \u001b[0;32mIn[40], line 1\u001b[0m\n\u001b[0;32m----> 1\u001b[0m response \u001b[38;5;241m=\u001b[39m \u001b[43mopenai\u001b[49m\u001b[38;5;241;43m.\u001b[39;49m\u001b[43mCompletion\u001b[49m\u001b[38;5;241;43m.\u001b[39;49m\u001b[43mcreate\u001b[49m\u001b[43m(\u001b[49m\n\u001b[1;32m      2\u001b[0m \u001b[43m    \u001b[49m\u001b[43mmodel\u001b[49m\u001b[38;5;241;43m=\u001b[39;49m\u001b[38;5;124;43m\"\u001b[39;49m\u001b[38;5;124;43mgpt-3.5-turbo\u001b[39;49m\u001b[38;5;124;43m\"\u001b[39;49m\u001b[43m,\u001b[49m\n\u001b[1;32m      3\u001b[0m \u001b[43m    \u001b[49m\u001b[43mmessages\u001b[49m\u001b[38;5;241;43m=\u001b[39;49m\u001b[43m[\u001b[49m\n\u001b[1;32m      4\u001b[0m \u001b[43m        \u001b[49m\u001b[43m{\u001b[49m\u001b[38;5;124;43m\"\u001b[39;49m\u001b[38;5;124;43mrole\u001b[39;49m\u001b[38;5;124;43m\"\u001b[39;49m\u001b[43m:\u001b[49m\u001b[43m \u001b[49m\u001b[38;5;124;43m\"\u001b[39;49m\u001b[38;5;124;43msystem\u001b[39;49m\u001b[38;5;124;43m\"\u001b[39;49m\u001b[43m,\u001b[49m\u001b[43m \u001b[49m\u001b[38;5;124;43m\"\u001b[39;49m\u001b[38;5;124;43mcontent\u001b[39;49m\u001b[38;5;124;43m\"\u001b[39;49m\u001b[43m:\u001b[49m\u001b[43m \u001b[49m\u001b[38;5;124;43m\"\u001b[39;49m\u001b[38;5;124;43mYou are a helpful assistant.\u001b[39;49m\u001b[38;5;124;43m\"\u001b[39;49m\u001b[43m}\u001b[49m\u001b[43m,\u001b[49m\n\u001b[1;32m      5\u001b[0m \u001b[43m        \u001b[49m\u001b[43m{\u001b[49m\u001b[38;5;124;43m\"\u001b[39;49m\u001b[38;5;124;43mrole\u001b[39;49m\u001b[38;5;124;43m\"\u001b[39;49m\u001b[43m:\u001b[49m\u001b[43m \u001b[49m\u001b[38;5;124;43m\"\u001b[39;49m\u001b[38;5;124;43muser\u001b[39;49m\u001b[38;5;124;43m\"\u001b[39;49m\u001b[43m,\u001b[49m\u001b[43m \u001b[49m\u001b[38;5;124;43m\"\u001b[39;49m\u001b[38;5;124;43mcontent\u001b[39;49m\u001b[38;5;124;43m\"\u001b[39;49m\u001b[43m:\u001b[49m\u001b[43m \u001b[49m\u001b[38;5;124;43m\"\u001b[39;49m\u001b[38;5;124;43mWho is the first president of India?\u001b[39;49m\u001b[38;5;124;43m\"\u001b[39;49m\u001b[43m}\u001b[49m\u001b[43m,\u001b[49m\n\u001b[1;32m      6\u001b[0m \u001b[43m        \u001b[49m\u001b[43m{\u001b[49m\u001b[38;5;124;43m\"\u001b[39;49m\u001b[38;5;124;43mrole\u001b[39;49m\u001b[38;5;124;43m\"\u001b[39;49m\u001b[43m:\u001b[49m\u001b[43m \u001b[49m\u001b[38;5;124;43m\"\u001b[39;49m\u001b[38;5;124;43massistant\u001b[39;49m\u001b[38;5;124;43m\"\u001b[39;49m\u001b[43m,\u001b[49m\u001b[43m \u001b[49m\u001b[38;5;124;43m\"\u001b[39;49m\u001b[38;5;124;43mcontent\u001b[39;49m\u001b[38;5;124;43m\"\u001b[39;49m\u001b[43m:\u001b[49m\u001b[43m \u001b[49m\u001b[38;5;124;43m\"\u001b[39;49m\u001b[38;5;124;43mRajendra Prasad is the first president of India.\u001b[39;49m\u001b[38;5;124;43m\"\u001b[39;49m\u001b[43m}\u001b[49m\u001b[43m,\u001b[49m\n\u001b[1;32m      7\u001b[0m \u001b[43m        \u001b[49m\u001b[43m{\u001b[49m\u001b[38;5;124;43m\"\u001b[39;49m\u001b[38;5;124;43mrole\u001b[39;49m\u001b[38;5;124;43m\"\u001b[39;49m\u001b[43m:\u001b[49m\u001b[43m \u001b[49m\u001b[38;5;124;43m\"\u001b[39;49m\u001b[38;5;124;43muser\u001b[39;49m\u001b[38;5;124;43m\"\u001b[39;49m\u001b[43m,\u001b[49m\u001b[43m \u001b[49m\u001b[38;5;124;43m\"\u001b[39;49m\u001b[38;5;124;43mcontent\u001b[39;49m\u001b[38;5;124;43m\"\u001b[39;49m\u001b[43m:\u001b[49m\u001b[43m \u001b[49m\u001b[38;5;124;43m\"\u001b[39;49m\u001b[38;5;124;43mWhere was it played?\u001b[39;49m\u001b[38;5;124;43m\"\u001b[39;49m\u001b[43m}\u001b[49m\n\u001b[1;32m      8\u001b[0m \u001b[43m    \u001b[49m\u001b[43m]\u001b[49m\n\u001b[1;32m      9\u001b[0m \u001b[43m)\u001b[49m\n\u001b[1;32m     10\u001b[0m \u001b[38;5;28mprint\u001b[39m(response)\n",
      "File \u001b[0;32m~/Documents/Redash_chatbot_add-on/venv/lib/python3.12/site-packages/openai/api_resources/completion.py:25\u001b[0m, in \u001b[0;36mcreate\u001b[0;34m(cls, *args, **kwargs)\u001b[0m\n",
      "File \u001b[0;32m~/Documents/Redash_chatbot_add-on/venv/lib/python3.12/site-packages/openai/api_resources/abstract/engine_api_resource.py:153\u001b[0m, in \u001b[0;36mcreate\u001b[0;34m(cls, api_key, api_base, api_type, request_id, api_version, organization, **params)\u001b[0m\n",
      "File \u001b[0;32m~/Documents/Redash_chatbot_add-on/venv/lib/python3.12/site-packages/openai/api_requestor.py:298\u001b[0m, in \u001b[0;36mrequest\u001b[0;34m(self, method, url, params, headers, files, stream, request_id, request_timeout)\u001b[0m\n",
      "File \u001b[0;32m~/Documents/Redash_chatbot_add-on/venv/lib/python3.12/site-packages/openai/api_requestor.py:700\u001b[0m, in \u001b[0;36m_interpret_response\u001b[0;34m(self, result, stream)\u001b[0m\n",
      "File \u001b[0;32m~/Documents/Redash_chatbot_add-on/venv/lib/python3.12/site-packages/openai/api_requestor.py:765\u001b[0m, in \u001b[0;36m_interpret_response_line\u001b[0;34m(self, rbody, rcode, rheaders, stream)\u001b[0m\n",
      "\u001b[0;31mInvalidRequestError\u001b[0m: Unrecognized request argument supplied: messages"
     ]
    }
   ],
   "source": [
    "client = openai(api_key=api_key)\n",
    "\n",
    "response = client.chat.completions.create(\n",
    "    model=\"gpt-3.5-turbo\",\n",
    "    messages=[\n",
    "        {\"role\": \"system\", \"content\": \"You are a helpful assistant.\"},\n",
    "        {\"role\": \"user\", \"content\": \"Who is the first president of India?\"},\n",
    "        {\"role\": \"assistant\", \"content\": \"Rajendra Prasad is the first president of India.\"},\n",
    "        {\"role\": \"user\", \"content\": \"Where was it played?\"}\n",
    "    ]\n",
    ")\n",
    "print(response)\n"
   ]
  },
  {
   "cell_type": "code",
   "execution_count": 16,
   "metadata": {},
   "outputs": [],
   "source": [
    "extraction_functions = [\n",
    "    {\n",
    "        \"name\": \"extract_information\",\n",
    "        \"description\": \"extracts information\",\n",
    "        \"parameters\": {\n",
    "            \"type\": \"object\",\n",
    "            \"properties\": {\n",
    "                \"metric\": {\n",
    "                    \"type\": \"string\",\n",
    "                    \"description\": \"main metric we need to calculate, for example, 'number of users' or 'number of sessions'\",\n",
    "                },\n",
    "                \"filters\": {\n",
    "                    \"type\": \"string\",\n",
    "                    \"description\": \"filters to apply to the calculation (do not include filters on dates here)\",\n",
    "                },\n",
    "                \"dimensions\": {\n",
    "                    \"type\": \"string\",\n",
    "                    \"description\": \"parameters to split your metric by\",\n",
    "                },\n",
    "                \"period_start\": {\n",
    "                    \"type\": \"string\",\n",
    "                    \"description\": \"the start day of the period for a report\",\n",
    "                },\n",
    "                \"period_end\": {\n",
    "                    \"type\": \"string\",\n",
    "                    \"description\": \"the end day of the period for a report\",\n",
    "                },\n",
    "                \"output_type\": {\n",
    "                    \"type\": \"string\",\n",
    "                    \"description\": \"the desired output\",\n",
    "                    \"enum\": [\"number\", \"visualisation\"]\n",
    "                }\n",
    "            },\n",
    "            \"required\": [\"metric\"],\n",
    "        },\n",
    "    }\n",
    "]"
   ]
  },
  {
   "cell_type": "code",
   "execution_count": 18,
   "metadata": {},
   "outputs": [
    {
     "name": "stderr",
     "output_type": "stream",
     "text": [
      "/home/grace-nyutu/Documents/Redash_chatbot_add-on/venv/lib/python3.12/site-packages/langchain_core/_api/deprecation.py:119: LangChainDeprecationWarning: The function `convert_pydantic_to_openai_function` was deprecated in LangChain 0.1.16 and will be removed in 0.3.0. Use langchain_core.utils.function_calling.convert_to_openai_function() instead.\n",
      "  warn_deprecated(\n"
     ]
    }
   ],
   "source": [
    "# create a class inheriting from the BaseModel class and define all the fields\n",
    "\n",
    "from pydantic import BaseModel, Field\n",
    "from typing import Optional\n",
    "\n",
    "class RequestStructure(BaseModel):\n",
    "  \"\"\"extracts information\"\"\"\n",
    "  metric: str = Field(description = \"main metric we need to calculate, for example, 'number of users' or 'number of sessions'\")\n",
    "  filters: Optional[str] = Field(description = \"filters to apply to the calculation (do not include filters on dates here)\")\n",
    "  dimensions: Optional[str] = Field(description = \"parameters to split your metric by\")\n",
    "  period_start: Optional[str] = Field(description = \"the start day of the period for a report\")\n",
    "  period_end: Optional[str] = Field(description = \"the end day of the period for a report\")\n",
    "  output_type: Optional[str] = Field(description = \"the desired output\", enum = [\"number\", \"visualisation\"])\n",
    "\n",
    "\n",
    "# use LangChain to convert the Pydantic class into the OpenAI function\n",
    "from langchain.utils.openai_functions import convert_pydantic_to_openai_function\n",
    "\n",
    "extract_info_function = convert_pydantic_to_openai_function(RequestStructure, \n",
    "    name = 'extract_information')"
   ]
  },
  {
   "cell_type": "code",
   "execution_count": 19,
   "metadata": {},
   "outputs": [],
   "source": [
    "model = ChatOpenAI(temperature=0.1, model = 'gpt-3.5-turbo-1106')\\\n",
    "  .bind(functions = [extract_info_function])\n",
    "\n",
    "prompt = ChatPromptTemplate.from_messages([\n",
    "    (\"system\", \"Extract the relevant information from the provided request. \\\n",
    "            Extract ONLY the information presented in the initial request. \\\n",
    "            Don't add anything else. \\\n",
    "            Return partial information if something is missing.\"),\n",
    "    (\"human\", \"{request}\")\n",
    "])\n",
    "\n",
    "extraction_chain = prompt | model"
   ]
  },
  {
   "cell_type": "code",
   "execution_count": 20,
   "metadata": {},
   "outputs": [
    {
     "data": {
      "text/plain": [
       "{'name': 'extract_information',\n",
       " 'description': 'extracts information',\n",
       " 'parameters': {'properties': {'metric': {'description': \"main metric we need to calculate, for example, 'number of users' or 'number of sessions'\",\n",
       "    'type': 'string'},\n",
       "   'filters': {'anyOf': [{'type': 'string'}, {'type': 'null'}],\n",
       "    'description': 'filters to apply to the calculation (do not include filters on dates here)'},\n",
       "   'dimensions': {'anyOf': [{'type': 'string'}, {'type': 'null'}],\n",
       "    'description': 'parameters to split your metric by'},\n",
       "   'period_start': {'anyOf': [{'type': 'string'}, {'type': 'null'}],\n",
       "    'description': 'the start day of the period for a report'},\n",
       "   'period_end': {'anyOf': [{'type': 'string'}, {'type': 'null'}],\n",
       "    'description': 'the end day of the period for a report'},\n",
       "   'output_type': {'anyOf': [{'type': 'string'}, {'type': 'null'}],\n",
       "    'description': 'the desired output',\n",
       "    'enum': ['number', 'visualisation']}},\n",
       "  'required': ['metric',\n",
       "   'filters',\n",
       "   'dimensions',\n",
       "   'period_start',\n",
       "   'period_end',\n",
       "   'output_type'],\n",
       "  'type': 'object'}}"
      ]
     },
     "execution_count": 20,
     "metadata": {},
     "output_type": "execute_result"
    }
   ],
   "source": [
    "extract_info_function"
   ]
  },
  {
   "cell_type": "markdown",
   "metadata": {},
   "source": [
    "Chatbot memory"
   ]
  }
 ],
 "metadata": {
  "kernelspec": {
   "display_name": "venv",
   "language": "python",
   "name": "python3"
  },
  "language_info": {
   "codemirror_mode": {
    "name": "ipython",
    "version": 3
   },
   "file_extension": ".py",
   "mimetype": "text/x-python",
   "name": "python",
   "nbconvert_exporter": "python",
   "pygments_lexer": "ipython3",
   "version": "3.12.3"
  }
 },
 "nbformat": 4,
 "nbformat_minor": 2
}
