{
 "cells": [
  {
   "cell_type": "code",
   "execution_count": 6,
   "metadata": {},
   "outputs": [],
   "source": [
    "import os\n",
    "from openai import OpenAI\n",
    "from dotenv import load_dotenv"
   ]
  },
  {
   "cell_type": "code",
   "execution_count": 7,
   "metadata": {},
   "outputs": [],
   "source": [
    "load_dotenv()\n",
    "client = OpenAI(api_key=os.environ.get(\"OPENAI_API_KEY\"))"
   ]
  },
  {
   "cell_type": "code",
   "execution_count": 2,
   "metadata": {},
   "outputs": [],
   "source": [
    "extraction_functions = [\n",
    "    {\n",
    "        \"name\": \"extract_information\",\n",
    "        \"description\": \"extracts information\",\n",
    "        \"parameters\": {\n",
    "            \"type\": \"object\",\n",
    "            \"properties\": {\n",
    "                \"metric\": {\n",
    "                    \"type\": \"string\",\n",
    "                    \"description\": \"main metric we need to calculate, for example, 'number of users' or 'number of sessions'\",\n",
    "                },\n",
    "                \"filters\": {\n",
    "                    \"type\": \"string\",\n",
    "                    \"description\": \"filters to apply to the calculation (do not include filters on dates here)\",\n",
    "                },\n",
    "                \"dimensions\": {\n",
    "                    \"type\": \"string\",\n",
    "                    \"description\": \"parameters to split your metric by\",\n",
    "                },\n",
    "                \"period_start\": {\n",
    "                    \"type\": \"string\",\n",
    "                    \"description\": \"the start day of the period for a report\",\n",
    "                },\n",
    "                \"period_end\": {\n",
    "                    \"type\": \"string\",\n",
    "                    \"description\": \"the end day of the period for a report\",\n",
    "                },\n",
    "                \"output_type\": {\n",
    "                    \"type\": \"string\",\n",
    "                    \"description\": \"the desired output\",\n",
    "                    \"enum\": [\"number\", \"visualisation\"]\n",
    "                }\n",
    "            },\n",
    "            \"required\": [\"metric\"],\n",
    "        },\n",
    "    }\n",
    "]"
   ]
  },
  {
   "cell_type": "code",
   "execution_count": 11,
   "metadata": {},
   "outputs": [],
   "source": [
    "messages = [\n",
    "    {\n",
    "        \"role\": \"system\",\n",
    "        \"content\": \"Extract the relevant information from the provided request.\"\n",
    "    },\n",
    "    {\n",
    "        \"role\": \"user\",\n",
    "        \"content\": \"How did number of iOS users change over time?\"\n",
    "    }\n",
    "]\n",
    "\n",
    "response = openai.chat.completions.create(\n",
    "    model = \"gpt-3.5-turbo-1106\", \n",
    "    messages = messages,\n",
    "    functions = extraction_functions\n",
    ")\n"
   ]
  },
  {
   "cell_type": "code",
   "execution_count": 12,
   "metadata": {},
   "outputs": [
    {
     "data": {
      "text/plain": [
       "ChatCompletion(id='chatcmpl-9N4YtlechWNdknEGvzGf0vc0zRv9g', choices=[Choice(finish_reason='function_call', index=0, logprobs=None, message=ChatCompletionMessage(content=None, role='assistant', function_call=FunctionCall(arguments='{\"metric\":\"number of iOS users\",\"dimensions\":\"time\",\"output_type\":\"visualisation\"}', name='extract_information'), tool_calls=None))], created=1715286107, model='gpt-3.5-turbo-1106', object='chat.completion', system_fingerprint=None, usage=CompletionUsage(completion_tokens=27, prompt_tokens=163, total_tokens=190))"
      ]
     },
     "execution_count": 12,
     "metadata": {},
     "output_type": "execute_result"
    }
   ],
   "source": [
    "response"
   ]
  },
  {
   "cell_type": "code",
   "execution_count": 16,
   "metadata": {},
   "outputs": [],
   "source": [
    "# always calling extract_information function\n",
    "response = openai.chat.completions.create(\n",
    "    model = \"gpt-3.5-turbo-1106\",\n",
    "    messages = messages,\n",
    "    functions = extraction_functions,\n",
    "    function_call = {\"name\": \"extract_information\"}\n",
    ")\n",
    "\n",
    "# no function calls\n",
    "response = openai.chat.completions.create(\n",
    "    model = \"gpt-3.5-turbo-1106\",\n",
    "    messages = messages,\n",
    "    functions = extraction_functions,\n",
    "    function_call = \"none\"\n",
    ")"
   ]
  },
  {
   "cell_type": "code",
   "execution_count": null,
   "metadata": {},
   "outputs": [],
   "source": []
  }
 ],
 "metadata": {
  "kernelspec": {
   "display_name": "venv",
   "language": "python",
   "name": "python3"
  },
  "language_info": {
   "codemirror_mode": {
    "name": "ipython",
    "version": 3
   },
   "file_extension": ".py",
   "mimetype": "text/x-python",
   "name": "python",
   "nbconvert_exporter": "python",
   "pygments_lexer": "ipython3",
   "version": "3.12.3"
  }
 },
 "nbformat": 4,
 "nbformat_minor": 2
}
